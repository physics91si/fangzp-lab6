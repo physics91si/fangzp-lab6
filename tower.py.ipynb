{
 "cells": [
  {
   "cell_type": "code",
   "execution_count": 2,
   "metadata": {
    "collapsed": false
   },
   "outputs": [
    {
     "name": "stdout",
     "output_type": "stream",
     "text": [
      "[[  0.   15. ]\n",
      " [  1.   17.6]\n",
      " [  2.    7.8]\n",
      " [  3.   -2. ]\n",
      " [  4.  -11.8]\n",
      " [  5.  -21.6]\n",
      " [  6.  -19. ]\n",
      " [  7.   -4. ]\n",
      " [  8.   11. ]\n",
      " [  9.   13.6]\n",
      " [ 10.    3.8]]\n",
      "-0.669090909091\n"
     ]
    },
    {
     "data": {
      "image/png": "[encoded data removed]",
      "text/plain": [
       "<matplotlib.figure.Figure at 0x107755110>"
      ]
     },
     "metadata": {},
     "output_type": "display_data"
    }
   ],
   "source": [
    "# Part 2: Theme Park Data Analysis\n",
    "import numpy as np\n",
    "import matplotlib.pyplot as plt\n",
    "import scipy\n",
    "%matplotlib inline\n",
    "\n",
    "# Loads the data\n",
    "vdata=np.loadtxt(\"droptower_vdata.txt\", dtype=float)\n",
    "print vdata\n",
    "\n",
    "# Plot velocity over time\n",
    "plt.plot(vdata[:,0], vdata[:,1])\n",
    "plt.show\n",
    "\n",
    "# Plot position over time\n",
    "# x=scipy.integrate.cumtrapz(vdata[:,1])\n",
    "\n",
    "\n",
    "# Plot acceleration over time"
   ]
  }
 ],
 "metadata": {
  "kernelspec": {
   "display_name": "Python 2",
   "language": "python",
   "name": "python2"
  },
  "language_info": {
   "codemirror_mode": {
    "name": "ipython",
    "version": 2
   },
   "file_extension": ".py",
   "mimetype": "text/x-python",
   "name": "python",
   "nbconvert_exporter": "python",
   "pygments_lexer": "ipython2",
   "version": "2.7.11"
  }
 },
 "nbformat": 4,
 "nbformat_minor": 0
}
