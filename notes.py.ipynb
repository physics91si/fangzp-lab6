{
 "cells": [
  {
   "cell_type": "code",
   "execution_count": 43,
   "metadata": {
    "collapsed": false
   },
   "outputs": [],
   "source": [
    "import numpy as np\n",
    "import matplotlib.pyplot as plt"
   ]
  },
  {
   "cell_type": "code",
   "execution_count": 44,
   "metadata": {
    "collapsed": false
   },
   "outputs": [
    {
     "name": "stdout",
     "output_type": "stream",
     "text": [
      "[ 0.   0.1  0.2  0.3  0.4  0.5  0.6  0.7  0.8  0.9]\n",
      "[ 0.   0.1  0.2  0.3  0.4  0.5  0.6  0.7  0.8  0.9]\n",
      "[ 1.          1.04319944  1.08826508  1.13527753  1.18432088  1.23548289\n",
      "  1.28885506  1.34453288  1.40261596  1.46320819  1.52641797  1.59235837\n",
      "  1.66114737  1.73290801  1.80776868  1.88586328  1.96733152  2.05231915\n",
      "  2.1409782   2.23346727  2.32995181  2.43060443  2.53560519  2.64514193\n",
      "  2.75941059  2.87861559  3.00297019  3.13269683  3.26802759  3.40920456\n",
      "  3.55648031  3.71011828  3.87039333  4.03759217  4.2120139   4.39397056\n",
      "  4.58378765  4.78180472  4.98837603  5.2038711   5.42867544  5.6631912\n",
      "  5.90783791  6.16305322  6.4292937   6.70703561  6.99677582  7.29903265\n",
      "  7.6143468   7.94328235]\n"
     ]
    }
   ],
   "source": [
    "# What about 0.0, 0.1, 0.2, ..., 0.9?\n",
    "# does arange include the endpoint? No!\n",
    "a=np.arange(0,1,0.1)\n",
    "b=np.linspace(0,0.9,10) #includes endpoint!\n",
    "c=np.logspace(0,0.9) #logarithmic spacing\n",
    "\n",
    "print(a)\n",
    "print(b)\n",
    "print(c)"
   ]
  },
  {
   "cell_type": "code",
   "execution_count": 45,
   "metadata": {
    "collapsed": false
   },
   "outputs": [],
   "source": [
    "#plotting is easy, how about an exponential curve?\n",
    "#plot(x_axis,y_axis)\n",
    "plt.plot(np.logspace(0,1,10), np.linspace(0,1,10))\n",
    "# plots exp(linspace(0,1,10))\n",
    "# startpt= 10**(0)\n",
    "# endpt = 10**(1)\n",
    "# gets rid of annoying axes output...NECESSARY out of IPythonNotebok\n",
    "plt.show()"
   ]
  },
  {
   "cell_type": "code",
   "execution_count": 46,
   "metadata": {
    "collapsed": false
   },
   "outputs": [
    {
     "name": "stdout",
     "output_type": "stream",
     "text": [
      "['Def NaN' '1']\n",
      "array(object, dtype=None, copy=True, order=None, subok=False, ndmin=0)\n",
      "\n",
      "    Create an array.\n",
      "\n",
      "    Parameters\n",
      "    ----------\n",
      "    object : array_like\n",
      "        An array, any object exposing the array interface, an\n",
      "        object whose __array__ method returns an array, or any\n",
      "        (nested) sequence.\n",
      "    dtype : data-type, optional\n",
      "        The desired data-type for the array.  If not given, then\n",
      "        the type will be determined as the minimum type required\n",
      "        to hold the objects in the sequence.  This argument can only\n",
      "        be used to 'upcast' the array.  For downcasting, use the\n",
      "        .astype(t) method.\n"
     ]
    }
   ],
   "source": [
    "# Remember that Python was able to coerce ints into strings?\n",
    "print(np.array(['Def NaN', 1]))\n",
    "\n",
    "# Magic? Python \n",
    "\n",
    "# We can also tell numpy how to convert things\n",
    "# print(np.array(['NaN', 1]))\n",
    "\n",
    "#img.misc.imread('/Users/Andrew/Physics91SI/lectures/octocat.jpg')\n",
    "#print(type(img)) --> <class 'numpy.ndarray'>\n",
    "#print(img.shape)\n",
    "#Cool trick to permute colors on images\n",
    "\n",
    "#Documentation for numpy array\n",
    "documentation=np.array.__doc__\n",
    "print(\"\\n\".join(documentation.split(\"\\n\")[:16]))\n"
   ]
  },
  {
   "cell_type": "code",
   "execution_count": 47,
   "metadata": {
    "collapsed": false
   },
   "outputs": [
    {
     "name": "stdout",
     "output_type": "stream",
     "text": [
      "[[[ 0  0  0]\n",
      "  [ 0  0  1]\n",
      "  [ 0 -1  0]]\n",
      "\n",
      " [[ 0  0 -1]\n",
      "  [ 0  0  0]\n",
      "  [ 1  0  0]]\n",
      "\n",
      " [[ 0  1  0]\n",
      "  [-1  0  0]\n",
      "  [ 0  0  0]]]\n",
      "[[ 1.  0.  0.]\n",
      " [ 0.  1.  0.]\n",
      " [ 0.  0.  1.]]\n",
      "[  0.   1.   2.   3.   4.   5.   6.   7.   8.   9.  10.  11.  12.  13.  14.\n",
      "  15.  16.  17.  18.  19.]\n"
     ]
    },
    {
     "data": {
      "text/plain": [
       "array([  0.,   2.,   4.,   6.,   8.,  10.,  12.,  14.,  16.,  18.])"
      ]
     },
     "execution_count": 47,
     "metadata": {},
     "output_type": "execute_result"
    }
   ],
   "source": [
    "# Now that we have arrays in numpy, we can do some more basic math with them\n",
    "# r_ness = np.sum(img[:, :,0]) / np.prod.(img.shape[:-1])\n",
    "# g_ness = np.sum(img[:,:,1]) / \n",
    "\n",
    "# It was easy to make numpy \"lists\"\n",
    "\n",
    "# Not much harder to get higher dimensional arrays!\n",
    "levi_civita=np.array([[[0,0,0],[0,0,1],[0,-1,0]],\n",
    "                     [[0,0,-1], [0,0,0],[1,0,0]],\n",
    "                     [[0,1,0],[-1,0,0],[0,0,0]]])\n",
    "\n",
    "print levi_civita\n",
    "\n",
    "# Doing this manually is a massive pain! Lots of helpful utilities exist for constructing \"standard\" arrays\n",
    "identity=np.eye(3) #3x3 identity matrix\n",
    "print identity\n",
    "\n",
    "#np.loadtxt()\n",
    "#numbers = np.loadtxt(\"numbers.txt\")\n",
    "#print numbers\n",
    "\n",
    "# Have plenty of arrays now, but how to get data into/out of them? Basic slicing syntax still works!\n",
    "# basic slicing\n",
    "a = np.linspace(0,19,20)\n",
    "print(a)\n",
    "a[10:15] #Note that slicing is inclusive\n",
    "\n",
    "# Can also index with stride\n",
    "a[::2] # Gives you even-entried values\n",
    "# What would [::-1] do?"
   ]
  },
  {
   "cell_type": "code",
   "execution_count": 48,
   "metadata": {
    "collapsed": false
   },
   "outputs": [
    {
     "name": "stdout",
     "output_type": "stream",
     "text": [
      "[[-0.21889371 -0.9769778  -0.39549989]\n",
      " [-0.91793726  0.60461612 -0.24598663]\n",
      " [ 1.38976849  0.48627669 -1.97291699]]\n",
      "[[-0.21889371 -0.9769778  -0.39549989]\n",
      " [-0.91793726  0.60461612 -0.24598663]\n",
      " [ 0.          0.          0.        ]]\n"
     ]
    }
   ],
   "source": [
    "# Can use comma-separated list of slices\n",
    "a=np.random.randn(3,3)\n",
    "print(a)\n",
    "\n",
    "a[2,:]=0\n",
    "print(a)"
   ]
  },
  {
   "cell_type": "code",
   "execution_count": 49,
   "metadata": {
    "collapsed": false
   },
   "outputs": [
    {
     "ename": "NameError",
     "evalue": "name 'numbers' is not defined",
     "output_type": "error",
     "traceback": [
      "\u001b[0;31m---------------------------------------------------------------------------\u001b[0m",
      "\u001b[0;31mNameError\u001b[0m                                 Traceback (most recent call last)",
      "\u001b[0;32m<ipython-input-49-e0617cac2958>\u001b[0m in \u001b[0;36m<module>\u001b[0;34m()\u001b[0m\n\u001b[1;32m      6\u001b[0m \u001b[0;31m# Whenever you're slicing in numpy, the thing you need to think about is the shape of what you start with, and what you end with\u001b[0m\u001b[0;34m\u001b[0m\u001b[0;34m\u001b[0m\u001b[0m\n\u001b[1;32m      7\u001b[0m \u001b[0;31m# LHS and RHS of equals should have \"similar\" shape (broadcasting)\u001b[0m\u001b[0;34m\u001b[0m\u001b[0;34m\u001b[0m\u001b[0m\n\u001b[0;32m----> 8\u001b[0;31m \u001b[0mnumbers\u001b[0m\u001b[0;34m[\u001b[0m\u001b[0;34m:\u001b[0m\u001b[0;34m,\u001b[0m\u001b[0;34m-\u001b[0m\u001b[0;36m1\u001b[0m\u001b[0;34m]\u001b[0m\u001b[0;34m=\u001b[0m\u001b[0;36m0\u001b[0m\u001b[0;34m\u001b[0m\u001b[0m\n\u001b[0m\u001b[1;32m      9\u001b[0m \u001b[0;32mprint\u001b[0m\u001b[0;34m(\u001b[0m\u001b[0mnumbers\u001b[0m\u001b[0;34m)\u001b[0m\u001b[0;34m\u001b[0m\u001b[0m\n\u001b[1;32m     10\u001b[0m \u001b[0;34m\u001b[0m\u001b[0m\n",
      "\u001b[0;31mNameError\u001b[0m: name 'numbers' is not defined"
     ]
    }
   ],
   "source": [
    "# This is genuinely different than standard Python lists!\n",
    "# pylist_numbers=[list(1) for 1 in numbers]\n",
    "# print(pylist_numbers)\n",
    "# print(pylist_numbers[:][1:2])\n",
    "\n",
    "# Whenever you're slicing in numpy, the thing you need to think about is the shape of what you start with, and what you end with\n",
    "# LHS and RHS of equals should have \"similar\" shape (broadcasting)\n",
    "numbers[:,-1]=0\n",
    "print(numbers)\n",
    "\n",
    "pylist_numbers[1][:]=(100, 100, 100)\n",
    "print pylist_numbers\n",
    "\n"
   ]
  },
  {
   "cell_type": "code",
   "execution_count": null,
   "metadata": {
    "collapsed": true
   },
   "outputs": [],
   "source": [
    "#Logical indexing: We can also slice into arrays with logical expressions!\n",
    "# get random matrix\n",
    "a=np.random.randn(3,3)\n",
    "print(a)\n",
    "print(a<0)\n",
    "#2D array of logical expressions\n",
    "\n",
    "a[a<0]"
   ]
  },
  {
   "cell_type": "code",
   "execution_count": null,
   "metadata": {
    "collapsed": true
   },
   "outputs": [],
   "source": [
    "# Index arrays: We can also set several selections at the same time, like a \"union\" of the selections\n",
    "a=np.arange(10,0,-1)\n",
    "print a\n",
    "\n",
    "indexes = np.array([1,8,4])\n",
    "print(a[indexes]) # get second, ninth, fifth thing out of a"
   ]
  },
  {
   "cell_type": "code",
   "execution_count": null,
   "metadata": {
    "collapsed": true
   },
   "outputs": [],
   "source": [
    "# scipy.optimize.curve_fit"
   ]
  }
 ],
 "metadata": {
  "kernelspec": {
   "display_name": "Python 2",
   "language": "python",
   "name": "python2"
  },
  "language_info": {
   "codemirror_mode": {
    "name": "ipython",
    "version": 2
   },
   "file_extension": ".py",
   "mimetype": "text/x-python",
   "name": "python",
   "nbconvert_exporter": "python",
   "pygments_lexer": "ipython2",
   "version": "2.7.11"
  }
 },
 "nbformat": 4,
 "nbformat_minor": 0
}
