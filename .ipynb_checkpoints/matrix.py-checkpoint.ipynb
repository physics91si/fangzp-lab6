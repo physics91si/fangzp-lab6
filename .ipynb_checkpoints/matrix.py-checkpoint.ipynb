{
 "cells": [
  {
   "cell_type": "code",
   "execution_count": null,
   "metadata": {
    "collapsed": true
   },
   "outputs": [],
   "source": [
    "# Part 1: Indices and 2D Matrices\n",
    "import numpy as np\n",
    "import matplotlib.pyplot as plt\n",
    "\n",
    "arr=np.zeros((9,9))\n",
    "arr[:,-3]=np.ones(9) # Assigns the entries in the -3 colums to the value 1\n",
    "arr[:,-2]=np.ones(9)\n",
    "arr[:,-1]=np.ones(9)\n",
    "arr[-1,:]=np.ones(9) # Assigns the entries in the last row to the value 1\n",
    "arr[4,5],arr[7,7],arr[1,8]=1, 1, 1# In one line of code, assigns three individual entries the value 1: (4,5), (7,7), and (1,8)\n",
    "print arr\n",
    "\n",
    "plt.spy(arr) # Plots data with plt.spy(arr)\n",
    "plt.show()"
   ]
  }
 ],
 "metadata": {
  "kernelspec": {
   "display_name": "Python 2",
   "language": "python",
   "name": "python2"
  },
  "language_info": {
   "codemirror_mode": {
    "name": "ipython",
    "version": 2
   },
   "file_extension": ".py",
   "mimetype": "text/x-python",
   "name": "python",
   "nbconvert_exporter": "python",
   "pygments_lexer": "ipython2",
   "version": "2.7.11"
  }
 },
 "nbformat": 4,
 "nbformat_minor": 0
}
